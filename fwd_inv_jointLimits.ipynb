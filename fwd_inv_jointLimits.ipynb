{
 "cells": [
  {
   "cell_type": "markdown",
   "id": "c89a1ab7-4a78-4f02-9ce5-1b2e97e82647",
   "metadata": {},
   "source": [
    "### Forward kinematics, inverse kinematics from resultant, then check end effector position to verify\n",
    "\n",
    "Implements joint angle bounds"
   ]
  },
  {
   "cell_type": "code",
   "execution_count": 1,
   "id": "b3c770e0-4f69-419b-8071-9b16ea0bcec6",
   "metadata": {},
   "outputs": [
    {
     "name": "stdout",
     "output_type": "stream",
     "text": [
      "Optimized Joint Angles (in degrees): [22.8756, 11.487, 3.127, -2.8648, 1.3891, -89.9945, 0.0]\n"
     ]
    }
   ],
   "source": [
    "import numpy as np\n",
    "from sympy import symbols, Matrix, cos, sin, eye, pi, lambdify\n",
    "from scipy.optimize import minimize\n",
    "\n",
    "# Define Symbols\n",
    "t1, t2, t3, t4, t5, t6, t7, ti = symbols(\"\\\\theta_1 \\\\theta_2 \\\\theta_3 \\\\theta_4 \\\\theta_5 \\\\theta_6 \\\\theta_7 \\\\theta_i\")\n",
    "d1, d2, d3, d4, d5, d6, d7, di = symbols(\"d_1 d_2 d_3 d_4 d_5 d_6 d_7 d_i\")\n",
    "a1, a2, a3, a4, a5, a6, a7, ai = symbols(\"a_1 a_2 a_3 a_4 a_5 a_6 a_7 a_i\")\n",
    "al1, al2, al3, al4, al5, al6, al7, ali = symbols(\"\\\\alpha_1 \\\\alpha_2 \\\\alpha_3 \\\\alpha_4 \\\\alpha_5 \\\\alpha_6 \\\\alpha_7 \\\\alpha_i\")\n",
    "\n",
    "# Define General Transformation Matrix\n",
    "Rx = Matrix([[1, 0, 0, 0],\n",
    "             [0, cos(ali), -sin(ali), 0],\n",
    "             [0, sin(ali), cos(ali), 0],\n",
    "             [0, 0, 0, 1]])\n",
    "\n",
    "Dx = Matrix([[1, 0, 0, ai],\n",
    "             [0, 1, 0, 0],\n",
    "             [0, 0, 1, 0],\n",
    "             [0, 0, 0, 1]])\n",
    "\n",
    "Rz = Matrix([[cos(ti), -sin(ti), 0, 0],\n",
    "             [sin(ti), cos(ti), 0, 0],\n",
    "             [0, 0, 1, 0],\n",
    "             [0, 0, 0, 1]])\n",
    "\n",
    "Dz = Matrix([[1, 0, 0, 0],\n",
    "             [0, 1, 0, 0],\n",
    "             [0, 0, 1, di],\n",
    "             [0, 0, 0, 1]])\n",
    "\n",
    "T = Dx * Rx * Dz * Rz\n",
    "\n",
    "L0 = 270.35e-3\n",
    "L1 = 69e-3\n",
    "L2 = 364.35e-3\n",
    "L3 = 69e-3\n",
    "L4 = 374.29e-3\n",
    "L5 = 10e-3\n",
    "L6 = 229.525e-3\n",
    "L7 = 10e-3\n",
    "\n",
    "# Define D-H parameters\n",
    "alpha = Matrix([0,-pi/2, pi/2, -pi/2, pi/2, -pi/2, pi/2])  # radians\n",
    "theta_left = Matrix([t1, t2+pi/2, t3, t4, t5, t6, t7])  # radians\n",
    "theta_right = Matrix([t1+pi, t2-pi/2, t3, t4, t5, t6, t7])  # radians\n",
    "a = Matrix([0,L1,0,L3,0,L5,0])  # m\n",
    "d = Matrix([L0,0,L2,0,L4,0,L6+L7])  # m\n",
    "assert len(alpha) == len(theta_left) == len(theta_right) == len(a) == len(d)\n",
    "\n",
    "# Left arm forward kinematics\n",
    "T_left = []\n",
    "Tleft_end = eye(4)\n",
    "for i in range(len(alpha)):\n",
    "    T_left.append(T.subs({ali: alpha[i], ai: a[i], di: d[i], ti: theta_left[i]}))\n",
    "    Tleft_end *= T_left[i] # transformation matrix from base frame to end effector\n",
    "\n",
    "# Right arm forward kinematics\n",
    "T_right = []\n",
    "Tright_end = eye(4)\n",
    "for i in range(len(alpha)):\n",
    "    T_right.append(T.subs({ali: alpha[i], ai: a[i], di: d[i], ti: theta_right[i]}))\n",
    "    Tright_end *= T_right[i] # transformation matrix from base frame to end effector\n",
    "\n",
    "# convert to numpy equations\n",
    "forward_kinematics_x_left = lambdify((t1, t2, t3, t4, t5, t6, t7), Tleft_end[0,3], 'numpy') # px\n",
    "forward_kinematics_y_left = lambdify((t1, t2, t3, t4, t5, t6, t7), Tleft_end[1,3], 'numpy') # py\n",
    "forward_kinematics_z_left = lambdify((t1, t2, t3, t4, t5, t6, t7), Tleft_end[2,3], 'numpy') # pz\n",
    "forward_kinematics_x_right = lambdify((t1, t2, t3, t4, t5, t6, t7), Tright_end[0,3], 'numpy')\n",
    "forward_kinematics_y_right = lambdify((t1, t2, t3, t4, t5, t6, t7), Tright_end[1,3], 'numpy')\n",
    "forward_kinematics_z_right = lambdify((t1, t2, t3, t4, t5, t6, t7), Tright_end[2,3], 'numpy')\n",
    "\n",
    "# Define the joint limits (radians)\n",
    "joint_limits = [(-1.7016, 1.7016), (-2.147, 1.047), (-3.0541, 3.0541), (-0.05, 2.618), (-3.059, 3.059), (-1.5707, 2.094), (-3.059, 3.059)]\n",
    "\n",
    "# Optimization\n",
    "def inverse_kinematics(initial_guess, goal, arm='left'):\n",
    "    result = minimize(objective_function, initial_guess, args=(goal, arm), bounds=joint_limits)\n",
    "    return result.x\n",
    "\n",
    "# Modified objective function to penalize solutions outside joint limits\n",
    "def objective_function(thetas, goal, arm='left'):\n",
    "    if arm == 'left':\n",
    "        actual_x = forward_kinematics_x_left(*thetas)\n",
    "        actual_y = forward_kinematics_y_left(*thetas)\n",
    "        actual_z = forward_kinematics_z_left(*thetas)\n",
    "    elif arm == 'right':\n",
    "        actual_x = forward_kinematics_x_right(*thetas)\n",
    "        actual_y = forward_kinematics_y_right(*thetas)\n",
    "        actual_z = forward_kinematics_z_right(*thetas)\n",
    "    else:\n",
    "        raise ValueError(\"Invalid arm specified. Use 'left' or 'right'.\")\n",
    "    \n",
    "    # Calculate error\n",
    "    error = np.sum((np.array([actual_x, actual_y, actual_z]) - goal)**2)\n",
    "    \n",
    "    # Penalize solutions outside joint limits\n",
    "    for theta, (lower, upper) in zip(thetas, joint_limits):\n",
    "        if theta < lower or theta > upper:\n",
    "            error += 1000  # Penalty for violating joint limits\n",
    "    \n",
    "    return error\n",
    "\n",
    "# Example usage\n",
    "initial_guess = np.array([0.0, 0.0, 0.0, 0.0, 0.0, 0.0, 0.0])  # Initial guess for joint angles\n",
    "goal_position = np.array([0.75, 0.3, 0.3])\n",
    "arm_choice = 'left'  # 'left' or 'right'\n",
    "optimized_angles = inverse_kinematics(initial_guess, goal_position, arm=arm_choice)\n",
    "optimized_angles_degrees = np.degrees(optimized_angles)\n",
    "optimized_angles_rounded = [round(angle, 4) for angle in optimized_angles_degrees]\n",
    "print(\"Optimized Joint Angles (in degrees):\", optimized_angles_rounded)"
   ]
  },
  {
   "cell_type": "markdown",
   "id": "5729920c-98c0-4970-abed-0f69da01123d",
   "metadata": {},
   "source": [
    "### Forward Kinematics (check inv-kin result)"
   ]
  },
  {
   "cell_type": "code",
   "execution_count": 2,
   "id": "7da7d0cd-5da2-4a2d-a7ad-8803e0f4af29",
   "metadata": {},
   "outputs": [],
   "source": [
    "# Initialize T_end\n",
    "T_end = eye(4)\n",
    "\n",
    "# Loop through thetas and calculate positions\n",
    "for i in range(len(optimized_angles)):\n",
    "    T_end *= T_left[i]\n",
    "\n",
    "# Substitute theta values into T_end and then extract positions\n",
    "x_pos = T_end[0, 3].subs({t1: optimized_angles[0], t2: optimized_angles[1], t3: optimized_angles[2], \n",
    "                          t4: optimized_angles[3], t5: optimized_angles[4], t6: optimized_angles[5], \n",
    "                          t7: optimized_angles[6]})\n",
    "y_pos = T_end[1, 3].subs({t1: optimized_angles[0], t2: optimized_angles[1], t3: optimized_angles[2], \n",
    "                          t4: optimized_angles[3], t5: optimized_angles[4], t6: optimized_angles[5], \n",
    "                          t7: optimized_angles[6]})\n",
    "z_pos = T_end[2, 3].subs({t1: optimized_angles[0], t2: optimized_angles[1], t3: optimized_angles[2], \n",
    "                          t4: optimized_angles[3], t5: optimized_angles[4], t6: optimized_angles[5], \n",
    "                          t7: optimized_angles[6]})"
   ]
  },
  {
   "cell_type": "code",
   "execution_count": 3,
   "id": "3cff7fba-bd39-4d46-8d2b-645f61d2d3e5",
   "metadata": {},
   "outputs": [
    {
     "data": {
      "text/plain": [
       "(0.7584018315590324, 0.30336059929752796, 0.30036323641324186)"
      ]
     },
     "execution_count": 3,
     "metadata": {},
     "output_type": "execute_result"
    }
   ],
   "source": [
    "# Calculate end effector position\n",
    "if arm_choice == 'left':\n",
    "    x_pos_val = forward_kinematics_x_left(*optimized_angles)\n",
    "    y_pos_val = forward_kinematics_y_left(*optimized_angles)\n",
    "    z_pos_val = forward_kinematics_z_left(*optimized_angles)\n",
    "elif arm_choice == 'right':\n",
    "    x_pos_val = forward_kinematics_x_right(*optimized_angles)\n",
    "    y_pos_val = forward_kinematics_y_right(*optimized_angles)\n",
    "    z_pos_val = forward_kinematics_z_right(*optimized_angles)\n",
    "else:\n",
    "    raise ValueError(\"Invalid arm specified. Use 'left' or 'right'.\")\n",
    "\n",
    "# Evaluate the expressions to obtain numerical values\n",
    "x_pos_val = float(x_pos_val)\n",
    "y_pos_val = float(y_pos_val)\n",
    "z_pos_val = float(z_pos_val)\n",
    "\n",
    "x_pos_val, y_pos_val, z_pos_val"
   ]
  },
  {
   "cell_type": "code",
   "execution_count": null,
   "id": "819c4d8c-19bb-48c9-83f2-b902fe936b9f",
   "metadata": {},
   "outputs": [],
   "source": []
  }
 ],
 "metadata": {
  "kernelspec": {
   "display_name": "Python 3 (ipykernel)",
   "language": "python",
   "name": "python3"
  },
  "language_info": {
   "codemirror_mode": {
    "name": "ipython",
    "version": 3
   },
   "file_extension": ".py",
   "mimetype": "text/x-python",
   "name": "python",
   "nbconvert_exporter": "python",
   "pygments_lexer": "ipython3",
   "version": "3.11.5"
  }
 },
 "nbformat": 4,
 "nbformat_minor": 5
}
